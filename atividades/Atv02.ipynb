{
 "cells": [
  {
   "cell_type": "markdown",
   "id": "04689213-3104-4518-b399-8c1c86e4eace",
   "metadata": {},
   "source": [
    "# Você é desafiado a criar uma classe em Java chamada ExercicioVariaveis que declare e inicialize variáveis de todos os tipos primitivos disponíveis na linguagem Java. Além disso, a classe deve utilizar caracteres especiais em algumas strings para demonstrar o uso adequado desses caracteres.\n",
    "\n",
    "Siga as instruções abaixo:\n",
    "\n",
    "Declare e inicialize variáveis dos seguintes tipos primitivos:\n",
    "\n",
    "int\n",
    "long\n",
    "float\n",
    "double\n",
    "char\n",
    "boolean\n",
    "byte\n",
    "short\n",
    "Exiba os valores das variáveis utilizando System.out.println.\n",
    "\n",
    "Utilize caracteres especiais em algumas strings para representar:\n",
    "\n",
    "Caractere de nova linha (\\n)\n",
    "Caractere de tabulação (\\t)\n",
    "Caractere de aspas duplas (\")\n",
    "Caractere de barra invertida (\\\\)\n",
    "Certifique-se de que o código compila e execute corretamente.\n",
    "\n"
   ]
  },
  {
   "cell_type": "code",
   "execution_count": null,
   "id": "59a7a484-d23b-4380-ad39-2a98dbfdf124",
   "metadata": {
    "tags": []
   },
   "outputs": [],
   "source": [
    "public class atv02 {\n",
    "    public static void main(String[] args) {\n",
    "\n",
    "        int inteiro = 5;\n",
    "        long longo = 600000L;\n",
    "        float flutuante = 2.34f;\n",
    "        double duplo = 6.54128;\n",
    "        char caracter = 'G';\n",
    "        boolean booleano = false;\n",
    "        byte bytes = 127;\n",
    "        short curto = 2400;\n",
    "\n",
    "        //imprime valores\n",
    "        System.out.println(\"Int: \" + inteiro);\n",
    "        System.out.println(\"Long: \" + longo);\n",
    "        System.out.println(\"Float: \" + flutuante);\n",
    "        System.out.println(\"Double: \" + duplo);\n",
    "        System.out.println(\"Char: \" + caracter);\n",
    "        System.out.println(\"Boolean: \" + booleano);\n",
    "        System.out.println(\"Byte: \" + bytes);\n",
    "        System.out.println(\"Short: \" + curto);\n",
    "\n",
    "        // caracteres especiais\n",
    "        System.out.println(\"Nova linha: \\n\\t Texto na próxima linha.\");\n",
    "        System.out.println(\"Tabulação: \\t Texto após a tabulação.\");\n",
    "        System.out.println(\"Aspas duplas: \\\"Texto entre aspas duplas.\\\"\");\n",
    "        System.out.println(\"Barra invertida: \\\\\");\n",
    "    }\n",
    "}"
   ]
  }
 ],
 "metadata": {
  "kernelspec": {
   "display_name": "Java",
   "language": "java",
   "name": "java"
  },
  "language_info": {
   "codemirror_mode": "java",
   "file_extension": ".jshell",
   "mimetype": "text/x-java-source",
   "name": "Java",
   "pygments_lexer": "java",
   "version": "21.0.1+12-LTS-29"
  }
 },
 "nbformat": 4,
 "nbformat_minor": 5
}
